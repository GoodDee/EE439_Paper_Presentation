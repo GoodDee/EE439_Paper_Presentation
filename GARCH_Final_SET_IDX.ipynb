{
 "cells": [
  {
   "cell_type": "code",
   "execution_count": 1,
   "metadata": {},
   "outputs": [],
   "source": [
    "import pandas as pd\n",
    "import numpy as np\n",
    "\n",
    "import statsmodels.api as sm\n",
    "from arch import arch_model\n",
    "\n",
    "import matplotlib.pyplot as plt\n",
    "from scipy import stats"
   ]
  },
  {
   "cell_type": "code",
   "execution_count": 2,
   "metadata": {},
   "outputs": [
    {
     "data": {
      "text/html": [
       "<div>\n",
       "<style scoped>\n",
       "    .dataframe tbody tr th:only-of-type {\n",
       "        vertical-align: middle;\n",
       "    }\n",
       "\n",
       "    .dataframe tbody tr th {\n",
       "        vertical-align: top;\n",
       "    }\n",
       "\n",
       "    .dataframe thead th {\n",
       "        text-align: right;\n",
       "    }\n",
       "</style>\n",
       "<table border=\"1\" class=\"dataframe\">\n",
       "  <thead>\n",
       "    <tr style=\"text-align: right;\">\n",
       "      <th></th>\n",
       "      <th>Date</th>\n",
       "      <th>Close</th>\n",
       "      <th>Volume</th>\n",
       "      <th>MA_diff_3</th>\n",
       "      <th>MA_diff_5</th>\n",
       "      <th>MA_diff_10</th>\n",
       "      <th>MA_diff_14</th>\n",
       "      <th>MA_diff_20</th>\n",
       "      <th>EMA_diff</th>\n",
       "      <th>MOM1</th>\n",
       "      <th>...</th>\n",
       "      <th>CCI_3</th>\n",
       "      <th>CCI_5</th>\n",
       "      <th>CCI_10</th>\n",
       "      <th>CCI_14</th>\n",
       "      <th>CCI_20</th>\n",
       "      <th>STD_3</th>\n",
       "      <th>STD_5</th>\n",
       "      <th>STD_10</th>\n",
       "      <th>STD_14</th>\n",
       "      <th>STD_20</th>\n",
       "    </tr>\n",
       "  </thead>\n",
       "  <tbody>\n",
       "    <tr>\n",
       "      <th>0</th>\n",
       "      <td>2015-01-05</td>\n",
       "      <td>1483.25</td>\n",
       "      <td>7129188.0</td>\n",
       "      <td>-9.053333</td>\n",
       "      <td>-8.362</td>\n",
       "      <td>0.305</td>\n",
       "      <td>-3.111429</td>\n",
       "      <td>-5.5285</td>\n",
       "      <td>-4.150252</td>\n",
       "      <td>-0.009628</td>\n",
       "      <td>...</td>\n",
       "      <td>-76.939569</td>\n",
       "      <td>-102.320118</td>\n",
       "      <td>-115.435704</td>\n",
       "      <td>-62.917422</td>\n",
       "      <td>-68.977585</td>\n",
       "      <td>8.488618</td>\n",
       "      <td>10.188931</td>\n",
       "      <td>16.525210</td>\n",
       "      <td>21.836628</td>\n",
       "      <td>40.461447</td>\n",
       "    </tr>\n",
       "    <tr>\n",
       "      <th>1</th>\n",
       "      <td>2015-01-06</td>\n",
       "      <td>1477.58</td>\n",
       "      <td>31337740.0</td>\n",
       "      <td>-6.880000</td>\n",
       "      <td>-5.462</td>\n",
       "      <td>-3.921</td>\n",
       "      <td>-2.669286</td>\n",
       "      <td>-5.8210</td>\n",
       "      <td>-4.302226</td>\n",
       "      <td>-0.003823</td>\n",
       "      <td>...</td>\n",
       "      <td>-55.267416</td>\n",
       "      <td>-80.779163</td>\n",
       "      <td>-103.310026</td>\n",
       "      <td>-69.503711</td>\n",
       "      <td>-72.515096</td>\n",
       "      <td>10.357714</td>\n",
       "      <td>13.077623</td>\n",
       "      <td>19.593445</td>\n",
       "      <td>22.645581</td>\n",
       "      <td>38.348790</td>\n",
       "    </tr>\n",
       "    <tr>\n",
       "      <th>2</th>\n",
       "      <td>2015-01-07</td>\n",
       "      <td>1500.75</td>\n",
       "      <td>12400610.0</td>\n",
       "      <td>1.026667</td>\n",
       "      <td>-1.932</td>\n",
       "      <td>-1.360</td>\n",
       "      <td>1.590000</td>\n",
       "      <td>-4.6915</td>\n",
       "      <td>-1.555004</td>\n",
       "      <td>0.015681</td>\n",
       "      <td>...</td>\n",
       "      <td>74.829274</td>\n",
       "      <td>59.472398</td>\n",
       "      <td>-19.869225</td>\n",
       "      <td>-6.237083</td>\n",
       "      <td>-27.028768</td>\n",
       "      <td>12.077857</td>\n",
       "      <td>10.375675</td>\n",
       "      <td>19.571298</td>\n",
       "      <td>21.690538</td>\n",
       "      <td>34.164826</td>\n",
       "    </tr>\n",
       "    <tr>\n",
       "      <th>3</th>\n",
       "      <td>2015-01-08</td>\n",
       "      <td>1521.62</td>\n",
       "      <td>18000260.0</td>\n",
       "      <td>12.790000</td>\n",
       "      <td>4.680</td>\n",
       "      <td>-1.521</td>\n",
       "      <td>4.277143</td>\n",
       "      <td>-3.8070</td>\n",
       "      <td>0.687497</td>\n",
       "      <td>0.013906</td>\n",
       "      <td>...</td>\n",
       "      <td>65.476328</td>\n",
       "      <td>98.624397</td>\n",
       "      <td>63.317813</td>\n",
       "      <td>52.006486</td>\n",
       "      <td>25.667072</td>\n",
       "      <td>22.030008</td>\n",
       "      <td>17.200606</td>\n",
       "      <td>17.433739</td>\n",
       "      <td>18.668910</td>\n",
       "      <td>28.117731</td>\n",
       "    </tr>\n",
       "    <tr>\n",
       "      <th>4</th>\n",
       "      <td>2015-01-09</td>\n",
       "      <td>1529.42</td>\n",
       "      <td>32278560.0</td>\n",
       "      <td>17.280000</td>\n",
       "      <td>6.350</td>\n",
       "      <td>-0.175</td>\n",
       "      <td>3.515714</td>\n",
       "      <td>-2.3065</td>\n",
       "      <td>1.398747</td>\n",
       "      <td>0.005126</td>\n",
       "      <td>...</td>\n",
       "      <td>54.673983</td>\n",
       "      <td>78.538898</td>\n",
       "      <td>95.371867</td>\n",
       "      <td>70.439460</td>\n",
       "      <td>57.815804</td>\n",
       "      <td>14.823213</td>\n",
       "      <td>22.830294</td>\n",
       "      <td>17.149006</td>\n",
       "      <td>17.838344</td>\n",
       "      <td>24.136416</td>\n",
       "    </tr>\n",
       "  </tbody>\n",
       "</table>\n",
       "<p>5 rows × 27 columns</p>\n",
       "</div>"
      ],
      "text/plain": [
       "        Date    Close      Volume  MA_diff_3  MA_diff_5  MA_diff_10  \\\n",
       "0 2015-01-05  1483.25   7129188.0  -9.053333     -8.362       0.305   \n",
       "1 2015-01-06  1477.58  31337740.0  -6.880000     -5.462      -3.921   \n",
       "2 2015-01-07  1500.75  12400610.0   1.026667     -1.932      -1.360   \n",
       "3 2015-01-08  1521.62  18000260.0  12.790000      4.680      -1.521   \n",
       "4 2015-01-09  1529.42  32278560.0  17.280000      6.350      -0.175   \n",
       "\n",
       "   MA_diff_14  MA_diff_20  EMA_diff      MOM1  ...      CCI_3       CCI_5  \\\n",
       "0   -3.111429     -5.5285 -4.150252 -0.009628  ... -76.939569 -102.320118   \n",
       "1   -2.669286     -5.8210 -4.302226 -0.003823  ... -55.267416  -80.779163   \n",
       "2    1.590000     -4.6915 -1.555004  0.015681  ...  74.829274   59.472398   \n",
       "3    4.277143     -3.8070  0.687497  0.013906  ...  65.476328   98.624397   \n",
       "4    3.515714     -2.3065  1.398747  0.005126  ...  54.673983   78.538898   \n",
       "\n",
       "       CCI_10     CCI_14     CCI_20      STD_3      STD_5     STD_10  \\\n",
       "0 -115.435704 -62.917422 -68.977585   8.488618  10.188931  16.525210   \n",
       "1 -103.310026 -69.503711 -72.515096  10.357714  13.077623  19.593445   \n",
       "2  -19.869225  -6.237083 -27.028768  12.077857  10.375675  19.571298   \n",
       "3   63.317813  52.006486  25.667072  22.030008  17.200606  17.433739   \n",
       "4   95.371867  70.439460  57.815804  14.823213  22.830294  17.149006   \n",
       "\n",
       "      STD_14     STD_20  \n",
       "0  21.836628  40.461447  \n",
       "1  22.645581  38.348790  \n",
       "2  21.690538  34.164826  \n",
       "3  18.668910  28.117731  \n",
       "4  17.838344  24.136416  \n",
       "\n",
       "[5 rows x 27 columns]"
      ]
     },
     "execution_count": 2,
     "metadata": {},
     "output_type": "execute_result"
    }
   ],
   "source": [
    "Train_df = pd.read_csv('SET_Train.csv')\n",
    "Train_df['Date'] = pd.to_datetime(Train_df['Date'])\n",
    "Train_df.head()"
   ]
  },
  {
   "cell_type": "code",
   "execution_count": 3,
   "metadata": {},
   "outputs": [],
   "source": [
    "# Generate 1-day, 3-day, 5-day, 10-day, 14-day and 20-day log return\n",
    "Ret_1 = (100*(np.log(Train_df['Close']) - np.log(Train_df['Close'].shift(1))))[1:]\n",
    "Ret_3 = (100*(np.log(Train_df['Close']) - np.log(Train_df['Close'].shift(3))))[3:]\n",
    "Ret_5 = (100*(np.log(Train_df['Close']) - np.log(Train_df['Close'].shift(5))))[5:]\n",
    "Ret_10 = (100*(np.log(Train_df['Close']) - np.log(Train_df['Close'].shift(10))))[10:]\n",
    "Ret_14 = (100*(np.log(Train_df['Close']) - np.log(Train_df['Close'].shift(14))))[14:]\n",
    "Ret_20 = (100*(np.log(Train_df['Close']) - np.log(Train_df['Close'].shift(20))))[20:]"
   ]
  },
  {
   "cell_type": "markdown",
   "metadata": {},
   "source": [
    "## Line plots + Descriptive Stats on Log Returns"
   ]
  },
  {
   "cell_type": "code",
   "execution_count": 13,
   "metadata": {},
   "outputs": [
    {
     "data": {
      "text/plain": [
       "Text(0.5, 1.0, 'One-day Return from 2015 to 2019')"
      ]
     },
     "execution_count": 13,
     "metadata": {},
     "output_type": "execute_result"
    },
    {
     "data": {
      "image/png": "[encoded data removed]",
      "text/plain": [
       "<Figure size 432x288 with 1 Axes>"
      ]
     },
     "metadata": {
      "needs_background": "light"
     },
     "output_type": "display_data"
    }
   ],
   "source": [
    "fig, ax = plt.subplots()\n",
    "ax.plot(Train_df['Date'], Ret_1)\n",
    "plt.title('One-day Return from 2015 to 2019')"
   ]
  },
  {
   "cell_type": "code",
   "execution_count": 4,
   "metadata": {},
   "outputs": [
    {
     "data": {
      "text/plain": [
       "count    1218.000000\n",
       "mean        0.005180\n",
       "std         0.729614\n",
       "min        -4.842190\n",
       "25%        -0.383602\n",
       "50%         0.026627\n",
       "75%         0.409438\n",
       "max         4.483821\n",
       "Name: Close, dtype: float64"
      ]
     },
     "execution_count": 4,
     "metadata": {},
     "output_type": "execute_result"
    }
   ],
   "source": [
    "Ret_1.describe()"
   ]
  },
  {
   "cell_type": "code",
   "execution_count": 35,
   "metadata": {},
   "outputs": [
    {
     "name": "stdout",
     "output_type": "stream",
     "text": [
      "-0.2828728335118043\n",
      "3.788501828641155\n",
      "(744.6453239676979, 0.0)\n"
     ]
    }
   ],
   "source": [
    "print(sm.stats.stattools.robust_skewness(Ret_1)[0])\n",
    "print(sm.stats.stattools.robust_kurtosis(Ret_1)[0])\n",
    "print(stats.jarque_bera(Ret_1))"
   ]
  },
  {
   "cell_type": "code",
   "execution_count": 14,
   "metadata": {},
   "outputs": [
    {
     "data": {
      "text/plain": [
       "Text(0.5, 1.0, 'Three-day Return from 2015 to 2019')"
      ]
     },
     "execution_count": 14,
     "metadata": {},
     "output_type": "execute_result"
    },
    {
     "data": {
      "image/png": "[encoded data removed]",
      "text/plain": [
       "<Figure size 432x288 with 1 Axes>"
      ]
     },
     "metadata": {
      "needs_background": "light"
     },
     "output_type": "display_data"
    }
   ],
   "source": [
    "fig, ax = plt.subplots()\n",
    "ax.plot(Train_df['Date'], Ret_3)\n",
    "plt.title('Three-day Return from 2015 to 2019')"
   ]
  },
  {
   "cell_type": "code",
   "execution_count": 5,
   "metadata": {},
   "outputs": [
    {
     "data": {
      "text/plain": [
       "count    1216.000000\n",
       "mean        0.014788\n",
       "std         1.297280\n",
       "min        -6.747746\n",
       "25%        -0.757638\n",
       "50%         0.062463\n",
       "75%         0.800668\n",
       "max         4.936637\n",
       "Name: Close, dtype: float64"
      ]
     },
     "execution_count": 5,
     "metadata": {},
     "output_type": "execute_result"
    }
   ],
   "source": [
    "Ret_3.describe()"
   ]
  },
  {
   "cell_type": "code",
   "execution_count": 36,
   "metadata": {},
   "outputs": [
    {
     "name": "stdout",
     "output_type": "stream",
     "text": [
      "-0.2740193422795587\n",
      "1.5105463074608894\n",
      "(130.82622503568876, 0.0)\n"
     ]
    }
   ],
   "source": [
    "print(sm.stats.stattools.robust_skewness(Ret_3)[0])\n",
    "print(sm.stats.stattools.robust_kurtosis(Ret_3)[0])\n",
    "print(stats.jarque_bera(Ret_3))"
   ]
  },
  {
   "cell_type": "code",
   "execution_count": 15,
   "metadata": {},
   "outputs": [
    {
     "data": {
      "text/plain": [
       "Text(0.5, 1.0, 'Five-day Return from 2015 to 2019')"
      ]
     },
     "execution_count": 15,
     "metadata": {},
     "output_type": "execute_result"
    },
    {
     "data": {
      "image/png": "[encoded data removed]",
      "text/plain": [
       "<Figure size 432x288 with 1 Axes>"
      ]
     },
     "metadata": {
      "needs_background": "light"
     },
     "output_type": "display_data"
    }
   ],
   "source": [
    "fig, ax = plt.subplots()\n",
    "ax.plot(Train_df['Date'], Ret_5)\n",
    "plt.title('Five-day Return from 2015 to 2019')"
   ]
  },
  {
   "cell_type": "code",
   "execution_count": 6,
   "metadata": {},
   "outputs": [
    {
     "data": {
      "text/plain": [
       "count    1214.000000\n",
       "mean        0.019663\n",
       "std         1.661979\n",
       "min        -7.951637\n",
       "25%        -0.915223\n",
       "50%         0.102905\n",
       "75%         1.041887\n",
       "max         6.064904\n",
       "Name: Close, dtype: float64"
      ]
     },
     "execution_count": 6,
     "metadata": {},
     "output_type": "execute_result"
    }
   ],
   "source": [
    "Ret_5.describe()"
   ]
  },
  {
   "cell_type": "code",
   "execution_count": 37,
   "metadata": {},
   "outputs": [
    {
     "name": "stdout",
     "output_type": "stream",
     "text": [
      "-0.3030362437108946\n",
      "1.2600462937457406\n",
      "(98.89246642432926, 0.0)\n"
     ]
    }
   ],
   "source": [
    "print(sm.stats.stattools.robust_skewness(Ret_5)[0])\n",
    "print(sm.stats.stattools.robust_kurtosis(Ret_5)[0])\n",
    "print(stats.jarque_bera(Ret_5))"
   ]
  },
  {
   "cell_type": "code",
   "execution_count": 16,
   "metadata": {},
   "outputs": [
    {
     "data": {
      "text/plain": [
       "Text(0.5, 1.0, 'Ten-day Return from 2015 to 2019')"
      ]
     },
     "execution_count": 16,
     "metadata": {},
     "output_type": "execute_result"
    },
    {
     "data": {
      "image/png": "[encoded data removed]",
      "text/plain": [
       "<Figure size 432x288 with 1 Axes>"
      ]
     },
     "metadata": {
      "needs_background": "light"
     },
     "output_type": "display_data"
    }
   ],
   "source": [
    "fig, ax = plt.subplots()\n",
    "ax.plot(Train_df['Date'], Ret_10)\n",
    "plt.title('Ten-day Return from 2015 to 2019')"
   ]
  },
  {
   "cell_type": "code",
   "execution_count": 7,
   "metadata": {},
   "outputs": [
    {
     "data": {
      "text/plain": [
       "count    1209.000000\n",
       "mean        0.029276\n",
       "std         2.314412\n",
       "min        -9.364862\n",
       "25%        -1.358197\n",
       "50%         0.043316\n",
       "75%         1.543373\n",
       "max         6.814241\n",
       "Name: Close, dtype: float64"
      ]
     },
     "execution_count": 7,
     "metadata": {},
     "output_type": "execute_result"
    }
   ],
   "source": [
    "Ret_10.describe()"
   ]
  },
  {
   "cell_type": "code",
   "execution_count": 38,
   "metadata": {},
   "outputs": [
    {
     "name": "stdout",
     "output_type": "stream",
     "text": [
      "-0.31640265700919085\n",
      "0.5324933319747163\n",
      "(34.45608259513967, 3.2957687468027075e-08)\n"
     ]
    }
   ],
   "source": [
    "print(sm.stats.stattools.robust_skewness(Ret_10)[0])\n",
    "print(sm.stats.stattools.robust_kurtosis(Ret_10)[0])\n",
    "print(stats.jarque_bera(Ret_10))"
   ]
  },
  {
   "cell_type": "code",
   "execution_count": 17,
   "metadata": {},
   "outputs": [
    {
     "data": {
      "text/plain": [
       "Text(0.5, 1.0, 'Fourteen-day Return from 2015 to 2019')"
      ]
     },
     "execution_count": 17,
     "metadata": {},
     "output_type": "execute_result"
    },
    {
     "data": {
      "image/png": "[encoded data removed]",
      "text/plain": [
       "<Figure size 432x288 with 1 Axes>"
      ]
     },
     "metadata": {
      "needs_background": "light"
     },
     "output_type": "display_data"
    }
   ],
   "source": [
    "fig, ax = plt.subplots()\n",
    "ax.plot(Train_df['Date'], Ret_14)\n",
    "plt.title('Fourteen-day Return from 2015 to 2019')"
   ]
  },
  {
   "cell_type": "code",
   "execution_count": 8,
   "metadata": {},
   "outputs": [
    {
     "data": {
      "text/plain": [
       "count    1205.000000\n",
       "mean        0.033354\n",
       "std         2.737789\n",
       "min       -10.287946\n",
       "25%        -1.572548\n",
       "50%         0.020022\n",
       "75%         1.824313\n",
       "max         8.003077\n",
       "Name: Close, dtype: float64"
      ]
     },
     "execution_count": 8,
     "metadata": {},
     "output_type": "execute_result"
    }
   ],
   "source": [
    "Ret_14.describe()"
   ]
  },
  {
   "cell_type": "code",
   "execution_count": 39,
   "metadata": {},
   "outputs": [
    {
     "name": "stdout",
     "output_type": "stream",
     "text": [
      "-0.26360082789928746\n",
      "0.3339792484467239\n",
      "(19.555328656046143, 5.6704083636116565e-05)\n"
     ]
    }
   ],
   "source": [
    "print(sm.stats.stattools.robust_skewness(Ret_14)[0])\n",
    "print(sm.stats.stattools.robust_kurtosis(Ret_14)[0])\n",
    "print(stats.jarque_bera(Ret_14))"
   ]
  },
  {
   "cell_type": "code",
   "execution_count": 18,
   "metadata": {},
   "outputs": [
    {
     "data": {
      "text/plain": [
       "Text(0.5, 1.0, 'Twenty-day Return from 2015 to 2019')"
      ]
     },
     "execution_count": 18,
     "metadata": {},
     "output_type": "execute_result"
    },
    {
     "data": {
      "image/png": "[encoded data removed]",
      "text/plain": [
       "<Figure size 432x288 with 1 Axes>"
      ]
     },
     "metadata": {
      "needs_background": "light"
     },
     "output_type": "display_data"
    }
   ],
   "source": [
    "fig, ax = plt.subplots()\n",
    "ax.plot(Train_df['Date'], Ret_20)\n",
    "plt.title('Twenty-day Return from 2015 to 2019')"
   ]
  },
  {
   "cell_type": "code",
   "execution_count": 9,
   "metadata": {},
   "outputs": [
    {
     "data": {
      "text/plain": [
       "count    1199.000000\n",
       "mean        0.028916\n",
       "std         3.262998\n",
       "min       -10.469468\n",
       "25%        -2.038049\n",
       "50%         0.082229\n",
       "75%         2.283809\n",
       "max         8.825686\n",
       "Name: Close, dtype: float64"
      ]
     },
     "execution_count": 9,
     "metadata": {},
     "output_type": "execute_result"
    }
   ],
   "source": [
    "Ret_20.describe()"
   ]
  },
  {
   "cell_type": "code",
   "execution_count": 40,
   "metadata": {},
   "outputs": [
    {
     "name": "stdout",
     "output_type": "stream",
     "text": [
      "-0.1946075246554028\n",
      "-0.1345037147169199\n",
      "(8.471914377304731, 0.014465956918908396)\n"
     ]
    }
   ],
   "source": [
    "print(sm.stats.stattools.robust_skewness(Ret_20)[0])\n",
    "print(sm.stats.stattools.robust_kurtosis(Ret_20)[0])\n",
    "print(stats.jarque_bera(Ret_20))"
   ]
  },
  {
   "cell_type": "markdown",
   "metadata": {},
   "source": [
    "## Preliminary Tests for Volatility Model: ADF + ARCH-LM"
   ]
  },
  {
   "cell_type": "code",
   "execution_count": 27,
   "metadata": {},
   "outputs": [
    {
     "name": "stdout",
     "output_type": "stream",
     "text": [
      "ADF for One-day Return: Test Statistics -33.58788179325588, P-value 0.0, Lags used 0, Number of Obs 1217\n",
      "ADF for Three-day Return: Test Statistics -6.8829436693311665, P-value 1.4181045076789566e-09, Lags used 21, Number of Obs 1194\n",
      "ADF for Five-day Return: Test Statistics -6.641614599423018, P-value 5.39213065276759e-09, Lags used 23, Number of Obs 1190\n",
      "ADF for Ten-day Return: Test Statistics -5.704185853571973, P-value 7.554597544309081e-07, Lags used 20, Number of Obs 1188\n",
      "ADF for Fourteen-day Return: Test Statistics -5.75388281306997, P-value 5.880631592301118e-07, Lags used 16, Number of Obs 1188\n",
      "ADF for Twenty-day Return: Test Statistics -5.140735509962233, P-value 1.1602411738669215e-05, Lags used 22, Number of Obs 1176\n"
     ]
    }
   ],
   "source": [
    "# ADF Test to test for log-return stationarity\n",
    "ADF_1 = sm.tsa.stattools.adfuller(Ret_1)\n",
    "print(\"ADF for One-day Return: Test Statistics {}, P-value {}, Lags used {}, Number of Obs {}\".format(ADF_1[0], ADF_1[1], ADF_1[2], ADF_1[3]))\n",
    "ADF_3 = sm.tsa.stattools.adfuller(Ret_3)\n",
    "print(\"ADF for Three-day Return: Test Statistics {}, P-value {}, Lags used {}, Number of Obs {}\".format(ADF_3[0], ADF_3[1], ADF_3[2], ADF_3[3]))\n",
    "ADF_5 = sm.tsa.stattools.adfuller(Ret_5)\n",
    "print(\"ADF for Five-day Return: Test Statistics {}, P-value {}, Lags used {}, Number of Obs {}\".format(ADF_5[0], ADF_5[1], ADF_5[2], ADF_5[3]))\n",
    "ADF_10 = sm.tsa.stattools.adfuller(Ret_10)\n",
    "print(\"ADF for Ten-day Return: Test Statistics {}, P-value {}, Lags used {}, Number of Obs {}\".format(ADF_10[0], ADF_10[1], ADF_10[2], ADF_10[3]))\n",
    "ADF_14 = sm.tsa.stattools.adfuller(Ret_14)\n",
    "print(\"ADF for Fourteen-day Return: Test Statistics {}, P-value {}, Lags used {}, Number of Obs {}\".format(ADF_14[0], ADF_14[1], ADF_14[2], ADF_14[3]))\n",
    "ADF_20 = sm.tsa.stattools.adfuller(Ret_20)\n",
    "print(\"ADF for Twenty-day Return: Test Statistics {}, P-value {}, Lags used {}, Number of Obs {}\".format(ADF_20[0], ADF_20[1], ADF_20[2], ADF_20[3]))"
   ]
  },
  {
   "cell_type": "code",
   "execution_count": 28,
   "metadata": {},
   "outputs": [
    {
     "name": "stdout",
     "output_type": "stream",
     "text": [
      "LM ARCH for One-day Return: LM Test Statistics 116.52670633126264, P-value 1.7461197730459217e-14, F Test Statistics 5.501044208188248, P-value 2.5188361628983862e-15\n",
      "LM ARCH for Three-day Return: LM Test Statistics 370.4839944397314, P-value 2.0481218081096806e-64, F Test Statistics 22.893477561651597, P-value 2.04530395640279e-78\n",
      "LM ARCH for Five-day Return: LM Test Statistics 435.8753893461746, P-value 7.065865604539716e-78, F Test Statistics 29.287799551650284, P-value 9.372027270732415e-99\n",
      "LM ARCH for Ten-day Return: LM Test Statistics 734.7157353589174, P-value 2.132926413659117e-140, F Test Statistics 82.25218476507382, P-value 1.0156075893791691e-224\n",
      "LM ARCH for Fourteen-day Return: LM Test Statistics 809.7046430648747, P-value 3.071443885238061e-156, F Test Statistics 109.50141545261175, P-value 5.683123744722254e-271\n",
      "LM ARCH for Twenty-day Return: LM Test Statistics 876.9956244612866, P-value 1.7316218097443617e-170, F Test Statistics 146.90768866845775, P-value 1.14e-322\n"
     ]
    },
    {
     "name": "stderr",
     "output_type": "stream",
     "text": [
      "C:\\Users\\User\\anaconda3\\lib\\site-packages\\statsmodels\\stats\\diagnostic.py:625: FutureWarning: The default value of nlags is changing.  After 0.12, this value will become min(10, nobs//5). Directly setmaxlags or period to silence this warning.\n",
      "  FutureWarning)\n"
     ]
    }
   ],
   "source": [
    "# Test on ARCH effect using LM-ARCH\n",
    "LM_1 = sm.stats.diagnostic.het_arch(Ret_1)\n",
    "print(\"LM ARCH for One-day Return: LM Test Statistics {}, P-value {}, F Test Statistics {}, P-value {}\".format(LM_1[0], LM_1[1], LM_1[2], LM_1[3]))\n",
    "LM_3 = sm.stats.diagnostic.het_arch(Ret_3)\n",
    "print(\"LM ARCH for Three-day Return: LM Test Statistics {}, P-value {}, F Test Statistics {}, P-value {}\".format(LM_3[0], LM_3[1], LM_3[2], LM_3[3]))\n",
    "LM_5 = sm.stats.diagnostic.het_arch(Ret_5)\n",
    "print(\"LM ARCH for Five-day Return: LM Test Statistics {}, P-value {}, F Test Statistics {}, P-value {}\".format(LM_5[0], LM_5[1], LM_5[2], LM_5[3]))\n",
    "LM_10 = sm.stats.diagnostic.het_arch(Ret_10)\n",
    "print(\"LM ARCH for Ten-day Return: LM Test Statistics {}, P-value {}, F Test Statistics {}, P-value {}\".format(LM_10[0], LM_10[1], LM_10[2], LM_10[3]))\n",
    "LM_14 = sm.stats.diagnostic.het_arch(Ret_14)\n",
    "print(\"LM ARCH for Fourteen-day Return: LM Test Statistics {}, P-value {}, F Test Statistics {}, P-value {}\".format(LM_14[0], LM_14[1], LM_14[2], LM_14[3]))\n",
    "LM_20 = sm.stats.diagnostic.het_arch(Ret_20)\n",
    "print(\"LM ARCH for Twenty-day Return: LM Test Statistics {}, P-value {}, F Test Statistics {}, P-value {}\".format(LM_20[0], LM_20[1], LM_20[2], LM_20[3]))"
   ]
  },
  {
   "cell_type": "markdown",
   "metadata": {},
   "source": [
    "## GARCH Model"
   ]
  },
  {
   "cell_type": "code",
   "execution_count": 52,
   "metadata": {},
   "outputs": [
    {
     "data": {
      "text/html": [
       "<table class=\"simpletable\">\n",
       "<caption>Constant Mean - GARCH Model Results</caption>\n",
       "<tr>\n",
       "  <th>Dep. Variable:</th>        <td>Close</td>       <th>  R-squared:         </th>  <td>   0.000</td> \n",
       "</tr>\n",
       "<tr>\n",
       "  <th>Mean Model:</th>       <td>Constant Mean</td>   <th>  Adj. R-squared:    </th>  <td>   0.000</td> \n",
       "</tr>\n",
       "<tr>\n",
       "  <th>Vol Model:</th>            <td>GARCH</td>       <th>  Log-Likelihood:    </th> <td>  -1255.27</td>\n",
       "</tr>\n",
       "<tr>\n",
       "  <th>Distribution:</th>        <td>Normal</td>       <th>  AIC:               </th> <td>   2518.55</td>\n",
       "</tr>\n",
       "<tr>\n",
       "  <th>Method:</th>        <td>Maximum Likelihood</td> <th>  BIC:               </th> <td>   2538.97</td>\n",
       "</tr>\n",
       "<tr>\n",
       "  <th></th>                        <td></td>          <th>  No. Observations:  </th>    <td>1218</td>   \n",
       "</tr>\n",
       "<tr>\n",
       "  <th>Date:</th>           <td>Mon, Feb 15 2021</td>  <th>  Df Residuals:      </th>    <td>1217</td>   \n",
       "</tr>\n",
       "<tr>\n",
       "  <th>Time:</th>               <td>13:50:23</td>      <th>  Df Model:          </th>      <td>1</td>    \n",
       "</tr>\n",
       "</table>\n",
       "<table class=\"simpletable\">\n",
       "<caption>Mean Model</caption>\n",
       "<tr>\n",
       "   <td></td>     <th>coef</th>     <th>std err</th>      <th>t</th>       <th>P>|t|</th>      <th>95.0% Conf. Int.</th>   \n",
       "</tr>\n",
       "<tr>\n",
       "  <th>mu</th> <td>    0.0232</td> <td>1.669e-02</td> <td>    1.390</td> <td>    0.165</td> <td>[-9.509e-03,5.590e-02]</td>\n",
       "</tr>\n",
       "</table>\n",
       "<table class=\"simpletable\">\n",
       "<caption>Volatility Model</caption>\n",
       "<tr>\n",
       "      <td></td>        <th>coef</th>     <th>std err</th>      <th>t</th>        <th>P>|t|</th>      <th>95.0% Conf. Int.</th>   \n",
       "</tr>\n",
       "<tr>\n",
       "  <th>omega</th>    <td>5.1310e-03</td> <td>4.405e-03</td> <td>    1.165</td>  <td>    0.244</td> <td>[-3.503e-03,1.376e-02]</td>\n",
       "</tr>\n",
       "<tr>\n",
       "  <th>alpha[1]</th> <td>    0.0801</td> <td>2.590e-02</td> <td>    3.091</td>  <td>1.994e-03</td>   <td>[2.930e-02,  0.131]</td> \n",
       "</tr>\n",
       "<tr>\n",
       "  <th>beta[1]</th>  <td>    0.9140</td> <td>2.605e-02</td> <td>   35.088</td> <td>1.023e-269</td>    <td>[  0.863,  0.965]</td>  \n",
       "</tr>\n",
       "</table><br/><br/>Covariance estimator: robust"
      ],
      "text/plain": [
       "<class 'statsmodels.iolib.summary.Summary'>\n",
       "\"\"\"\n",
       "                     Constant Mean - GARCH Model Results                      \n",
       "==============================================================================\n",
       "Dep. Variable:                  Close   R-squared:                       0.000\n",
       "Mean Model:             Constant Mean   Adj. R-squared:                  0.000\n",
       "Vol Model:                      GARCH   Log-Likelihood:               -1255.27\n",
       "Distribution:                  Normal   AIC:                           2518.55\n",
       "Method:            Maximum Likelihood   BIC:                           2538.97\n",
       "                                        No. Observations:                 1218\n",
       "Date:                Mon, Feb 15 2021   Df Residuals:                     1217\n",
       "Time:                        13:50:23   Df Model:                            1\n",
       "                                  Mean Model                                 \n",
       "=============================================================================\n",
       "                 coef    std err          t      P>|t|       95.0% Conf. Int.\n",
       "-----------------------------------------------------------------------------\n",
       "mu             0.0232  1.669e-02      1.390      0.165 [-9.509e-03,5.590e-02]\n",
       "                               Volatility Model                              \n",
       "=============================================================================\n",
       "                 coef    std err          t      P>|t|       95.0% Conf. Int.\n",
       "-----------------------------------------------------------------------------\n",
       "omega      5.1310e-03  4.405e-03      1.165      0.244 [-3.503e-03,1.376e-02]\n",
       "alpha[1]       0.0801  2.590e-02      3.091  1.994e-03    [2.930e-02,  0.131]\n",
       "beta[1]        0.9140  2.605e-02     35.088 1.023e-269      [  0.863,  0.965]\n",
       "=============================================================================\n",
       "\n",
       "Covariance estimator: robust\n",
       "\"\"\""
      ]
     },
     "execution_count": 52,
     "metadata": {},
     "output_type": "execute_result"
    }
   ],
   "source": [
    "GARCH_1 = arch_model(Ret_1, p=1, q=1).fit(update_freq=5, disp='off')\n",
    "GARCH_1.summary()"
   ]
  },
  {
   "cell_type": "code",
   "execution_count": 54,
   "metadata": {},
   "outputs": [
    {
     "data": {
      "text/html": [
       "<table class=\"simpletable\">\n",
       "<caption>Constant Mean - GARCH Model Results</caption>\n",
       "<tr>\n",
       "  <th>Dep. Variable:</th>        <td>Close</td>       <th>  R-squared:         </th>  <td>   0.000</td> \n",
       "</tr>\n",
       "<tr>\n",
       "  <th>Mean Model:</th>       <td>Constant Mean</td>   <th>  Adj. R-squared:    </th>  <td>   0.000</td> \n",
       "</tr>\n",
       "<tr>\n",
       "  <th>Vol Model:</th>            <td>GARCH</td>       <th>  Log-Likelihood:    </th> <td>  -2098.00</td>\n",
       "</tr>\n",
       "<tr>\n",
       "  <th>Distribution:</th>        <td>Normal</td>       <th>  AIC:               </th> <td>   4204.00</td>\n",
       "</tr>\n",
       "<tr>\n",
       "  <th>Method:</th>        <td>Maximum Likelihood</td> <th>  BIC:               </th> <td>   4224.40</td>\n",
       "</tr>\n",
       "<tr>\n",
       "  <th></th>                        <td></td>          <th>  No. Observations:  </th>    <td>1214</td>   \n",
       "</tr>\n",
       "<tr>\n",
       "  <th>Date:</th>           <td>Mon, Feb 15 2021</td>  <th>  Df Residuals:      </th>    <td>1213</td>   \n",
       "</tr>\n",
       "<tr>\n",
       "  <th>Time:</th>               <td>13:50:54</td>      <th>  Df Model:          </th>      <td>1</td>    \n",
       "</tr>\n",
       "</table>\n",
       "<table class=\"simpletable\">\n",
       "<caption>Mean Model</caption>\n",
       "<tr>\n",
       "   <td></td>     <th>coef</th>     <th>std err</th>      <th>t</th>       <th>P>|t|</th>    <th>95.0% Conf. Int.</th>  \n",
       "</tr>\n",
       "<tr>\n",
       "  <th>mu</th> <td>    0.1321</td> <td>6.026e-02</td> <td>    2.192</td> <td>2.835e-02</td> <td>[1.400e-02,  0.250]</td>\n",
       "</tr>\n",
       "</table>\n",
       "<table class=\"simpletable\">\n",
       "<caption>Volatility Model</caption>\n",
       "<tr>\n",
       "      <td></td>        <th>coef</th>     <th>std err</th>      <th>t</th>       <th>P>|t|</th>     <th>95.0% Conf. Int.</th>  \n",
       "</tr>\n",
       "<tr>\n",
       "  <th>omega</th>    <td>    0.3955</td> <td>    0.145</td> <td>    2.724</td> <td>6.443e-03</td>   <td>[  0.111,  0.680]</td> \n",
       "</tr>\n",
       "<tr>\n",
       "  <th>alpha[1]</th> <td>    0.6853</td> <td>8.901e-02</td> <td>    7.699</td> <td>1.372e-14</td>   <td>[  0.511,  0.860]</td> \n",
       "</tr>\n",
       "<tr>\n",
       "  <th>beta[1]</th>  <td>    0.2380</td> <td>    0.133</td> <td>    1.796</td> <td>7.257e-02</td> <td>[-2.179e-02,  0.498]</td>\n",
       "</tr>\n",
       "</table><br/><br/>Covariance estimator: robust"
      ],
      "text/plain": [
       "<class 'statsmodels.iolib.summary.Summary'>\n",
       "\"\"\"\n",
       "                     Constant Mean - GARCH Model Results                      \n",
       "==============================================================================\n",
       "Dep. Variable:                  Close   R-squared:                       0.000\n",
       "Mean Model:             Constant Mean   Adj. R-squared:                  0.000\n",
       "Vol Model:                      GARCH   Log-Likelihood:               -2098.00\n",
       "Distribution:                  Normal   AIC:                           4204.00\n",
       "Method:            Maximum Likelihood   BIC:                           4224.40\n",
       "                                        No. Observations:                 1214\n",
       "Date:                Mon, Feb 15 2021   Df Residuals:                     1213\n",
       "Time:                        13:50:54   Df Model:                            1\n",
       "                                Mean Model                                \n",
       "==========================================================================\n",
       "                 coef    std err          t      P>|t|    95.0% Conf. Int.\n",
       "--------------------------------------------------------------------------\n",
       "mu             0.1321  6.026e-02      2.192  2.835e-02 [1.400e-02,  0.250]\n",
       "                              Volatility Model                             \n",
       "===========================================================================\n",
       "                 coef    std err          t      P>|t|     95.0% Conf. Int.\n",
       "---------------------------------------------------------------------------\n",
       "omega          0.3955      0.145      2.724  6.443e-03    [  0.111,  0.680]\n",
       "alpha[1]       0.6853  8.901e-02      7.699  1.372e-14    [  0.511,  0.860]\n",
       "beta[1]        0.2380      0.133      1.796  7.257e-02 [-2.179e-02,  0.498]\n",
       "===========================================================================\n",
       "\n",
       "Covariance estimator: robust\n",
       "\"\"\""
      ]
     },
     "execution_count": 54,
     "metadata": {},
     "output_type": "execute_result"
    }
   ],
   "source": [
    "GARCH_5 = arch_model(Ret_5, p=1, q=1).fit(update_freq=5, disp='off')\n",
    "GARCH_5.summary()"
   ]
  },
  {
   "cell_type": "code",
   "execution_count": 55,
   "metadata": {},
   "outputs": [
    {
     "data": {
      "text/html": [
       "<table class=\"simpletable\">\n",
       "<caption>Constant Mean - GARCH Model Results</caption>\n",
       "<tr>\n",
       "  <th>Dep. Variable:</th>        <td>Close</td>       <th>  R-squared:         </th>  <td>   0.000</td> \n",
       "</tr>\n",
       "<tr>\n",
       "  <th>Mean Model:</th>       <td>Constant Mean</td>   <th>  Adj. R-squared:    </th>  <td>   0.000</td> \n",
       "</tr>\n",
       "<tr>\n",
       "  <th>Vol Model:</th>            <td>GARCH</td>       <th>  Log-Likelihood:    </th> <td>  -2399.63</td>\n",
       "</tr>\n",
       "<tr>\n",
       "  <th>Distribution:</th>        <td>Normal</td>       <th>  AIC:               </th> <td>   4807.26</td>\n",
       "</tr>\n",
       "<tr>\n",
       "  <th>Method:</th>        <td>Maximum Likelihood</td> <th>  BIC:               </th> <td>   4827.65</td>\n",
       "</tr>\n",
       "<tr>\n",
       "  <th></th>                        <td></td>          <th>  No. Observations:  </th>    <td>1209</td>   \n",
       "</tr>\n",
       "<tr>\n",
       "  <th>Date:</th>           <td>Mon, Feb 15 2021</td>  <th>  Df Residuals:      </th>    <td>1208</td>   \n",
       "</tr>\n",
       "<tr>\n",
       "  <th>Time:</th>               <td>13:51:03</td>      <th>  Df Model:          </th>      <td>1</td>    \n",
       "</tr>\n",
       "</table>\n",
       "<table class=\"simpletable\">\n",
       "<caption>Mean Model</caption>\n",
       "<tr>\n",
       "   <td></td>     <th>coef</th>     <th>std err</th>      <th>t</th>       <th>P>|t|</th>   <th>95.0% Conf. Int.</th> \n",
       "</tr>\n",
       "<tr>\n",
       "  <th>mu</th> <td>    0.1763</td> <td>    0.145</td> <td>    1.219</td> <td>    0.223</td> <td>[ -0.107,  0.460]</td>\n",
       "</tr>\n",
       "</table>\n",
       "<table class=\"simpletable\">\n",
       "<caption>Volatility Model</caption>\n",
       "<tr>\n",
       "      <td></td>        <th>coef</th>     <th>std err</th>      <th>t</th>       <th>P>|t|</th>      <th>95.0% Conf. Int.</th>   \n",
       "</tr>\n",
       "<tr>\n",
       "  <th>omega</th>    <td>    0.8489</td> <td>    0.129</td> <td>    6.588</td> <td>4.449e-11</td>    <td>[  0.596,  1.101]</td>  \n",
       "</tr>\n",
       "<tr>\n",
       "  <th>alpha[1]</th> <td>    0.8280</td> <td>4.294e-02</td> <td>   19.283</td> <td>7.465e-83</td>    <td>[  0.744,  0.912]</td>  \n",
       "</tr>\n",
       "<tr>\n",
       "  <th>beta[1]</th>  <td>    0.0188</td> <td>3.091e-02</td> <td>    0.607</td> <td>    0.544</td> <td>[-4.180e-02,7.935e-02]</td>\n",
       "</tr>\n",
       "</table><br/><br/>Covariance estimator: robust"
      ],
      "text/plain": [
       "<class 'statsmodels.iolib.summary.Summary'>\n",
       "\"\"\"\n",
       "                     Constant Mean - GARCH Model Results                      \n",
       "==============================================================================\n",
       "Dep. Variable:                  Close   R-squared:                       0.000\n",
       "Mean Model:             Constant Mean   Adj. R-squared:                  0.000\n",
       "Vol Model:                      GARCH   Log-Likelihood:               -2399.63\n",
       "Distribution:                  Normal   AIC:                           4807.26\n",
       "Method:            Maximum Likelihood   BIC:                           4827.65\n",
       "                                        No. Observations:                 1209\n",
       "Date:                Mon, Feb 15 2021   Df Residuals:                     1208\n",
       "Time:                        13:51:03   Df Model:                            1\n",
       "                               Mean Model                               \n",
       "========================================================================\n",
       "                 coef    std err          t      P>|t|  95.0% Conf. Int.\n",
       "------------------------------------------------------------------------\n",
       "mu             0.1763      0.145      1.219      0.223 [ -0.107,  0.460]\n",
       "                               Volatility Model                              \n",
       "=============================================================================\n",
       "                 coef    std err          t      P>|t|       95.0% Conf. Int.\n",
       "-----------------------------------------------------------------------------\n",
       "omega          0.8489      0.129      6.588  4.449e-11      [  0.596,  1.101]\n",
       "alpha[1]       0.8280  4.294e-02     19.283  7.465e-83      [  0.744,  0.912]\n",
       "beta[1]        0.0188  3.091e-02      0.607      0.544 [-4.180e-02,7.935e-02]\n",
       "=============================================================================\n",
       "\n",
       "Covariance estimator: robust\n",
       "\"\"\""
      ]
     },
     "execution_count": 55,
     "metadata": {},
     "output_type": "execute_result"
    }
   ],
   "source": [
    "GARCH_10 = arch_model(Ret_10, p=1, q=1).fit(update_freq=5, disp='off')\n",
    "GARCH_10.summary()"
   ]
  },
  {
   "cell_type": "code",
   "execution_count": 56,
   "metadata": {},
   "outputs": [
    {
     "data": {
      "text/html": [
       "<table class=\"simpletable\">\n",
       "<caption>Constant Mean - GARCH Model Results</caption>\n",
       "<tr>\n",
       "  <th>Dep. Variable:</th>        <td>Close</td>       <th>  R-squared:         </th>  <td>   0.000</td> \n",
       "</tr>\n",
       "<tr>\n",
       "  <th>Mean Model:</th>       <td>Constant Mean</td>   <th>  Adj. R-squared:    </th>  <td>   0.000</td> \n",
       "</tr>\n",
       "<tr>\n",
       "  <th>Vol Model:</th>            <td>GARCH</td>       <th>  Log-Likelihood:    </th> <td>  -2530.46</td>\n",
       "</tr>\n",
       "<tr>\n",
       "  <th>Distribution:</th>        <td>Normal</td>       <th>  AIC:               </th> <td>   5068.91</td>\n",
       "</tr>\n",
       "<tr>\n",
       "  <th>Method:</th>        <td>Maximum Likelihood</td> <th>  BIC:               </th> <td>   5089.29</td>\n",
       "</tr>\n",
       "<tr>\n",
       "  <th></th>                        <td></td>          <th>  No. Observations:  </th>    <td>1205</td>   \n",
       "</tr>\n",
       "<tr>\n",
       "  <th>Date:</th>           <td>Mon, Feb 15 2021</td>  <th>  Df Residuals:      </th>    <td>1204</td>   \n",
       "</tr>\n",
       "<tr>\n",
       "  <th>Time:</th>               <td>13:51:15</td>      <th>  Df Model:          </th>      <td>1</td>    \n",
       "</tr>\n",
       "</table>\n",
       "<table class=\"simpletable\">\n",
       "<caption>Mean Model</caption>\n",
       "<tr>\n",
       "   <td></td>     <th>coef</th>     <th>std err</th>      <th>t</th>       <th>P>|t|</th>   <th>95.0% Conf. Int.</th> \n",
       "</tr>\n",
       "<tr>\n",
       "  <th>mu</th> <td>    0.0331</td> <td>    0.136</td> <td>    0.244</td> <td>    0.808</td> <td>[ -0.233,  0.300]</td>\n",
       "</tr>\n",
       "</table>\n",
       "<table class=\"simpletable\">\n",
       "<caption>Volatility Model</caption>\n",
       "<tr>\n",
       "      <td></td>        <th>coef</th>     <th>std err</th>      <th>t</th>        <th>P>|t|</th>      <th>95.0% Conf. Int.</th>   \n",
       "</tr>\n",
       "<tr>\n",
       "  <th>omega</th>    <td>    0.8165</td> <td>    0.106</td> <td>    7.682</td>  <td>1.568e-14</td>    <td>[  0.608,  1.025]</td>  \n",
       "</tr>\n",
       "<tr>\n",
       "  <th>alpha[1]</th> <td>    0.8804</td> <td>3.606e-02</td> <td>   24.418</td> <td>1.096e-131</td>    <td>[  0.810,  0.951]</td>  \n",
       "</tr>\n",
       "<tr>\n",
       "  <th>beta[1]</th>  <td>    0.0205</td> <td>2.564e-02</td> <td>    0.800</td>  <td>    0.424</td> <td>[-2.974e-02,7.078e-02]</td>\n",
       "</tr>\n",
       "</table><br/><br/>Covariance estimator: robust"
      ],
      "text/plain": [
       "<class 'statsmodels.iolib.summary.Summary'>\n",
       "\"\"\"\n",
       "                     Constant Mean - GARCH Model Results                      \n",
       "==============================================================================\n",
       "Dep. Variable:                  Close   R-squared:                       0.000\n",
       "Mean Model:             Constant Mean   Adj. R-squared:                  0.000\n",
       "Vol Model:                      GARCH   Log-Likelihood:               -2530.46\n",
       "Distribution:                  Normal   AIC:                           5068.91\n",
       "Method:            Maximum Likelihood   BIC:                           5089.29\n",
       "                                        No. Observations:                 1205\n",
       "Date:                Mon, Feb 15 2021   Df Residuals:                     1204\n",
       "Time:                        13:51:15   Df Model:                            1\n",
       "                               Mean Model                               \n",
       "========================================================================\n",
       "                 coef    std err          t      P>|t|  95.0% Conf. Int.\n",
       "------------------------------------------------------------------------\n",
       "mu             0.0331      0.136      0.244      0.808 [ -0.233,  0.300]\n",
       "                               Volatility Model                              \n",
       "=============================================================================\n",
       "                 coef    std err          t      P>|t|       95.0% Conf. Int.\n",
       "-----------------------------------------------------------------------------\n",
       "omega          0.8165      0.106      7.682  1.568e-14      [  0.608,  1.025]\n",
       "alpha[1]       0.8804  3.606e-02     24.418 1.096e-131      [  0.810,  0.951]\n",
       "beta[1]        0.0205  2.564e-02      0.800      0.424 [-2.974e-02,7.078e-02]\n",
       "=============================================================================\n",
       "\n",
       "Covariance estimator: robust\n",
       "\"\"\""
      ]
     },
     "execution_count": 56,
     "metadata": {},
     "output_type": "execute_result"
    }
   ],
   "source": [
    "GARCH_14 = arch_model(Ret_14, p=1, q=1).fit(update_freq=5, disp='off')\n",
    "GARCH_14.summary()"
   ]
  },
  {
   "cell_type": "code",
   "execution_count": 57,
   "metadata": {},
   "outputs": [
    {
     "data": {
      "text/html": [
       "<table class=\"simpletable\">\n",
       "<caption>Constant Mean - GARCH Model Results</caption>\n",
       "<tr>\n",
       "  <th>Dep. Variable:</th>        <td>Close</td>       <th>  R-squared:         </th>  <td>   0.000</td> \n",
       "</tr>\n",
       "<tr>\n",
       "  <th>Mean Model:</th>       <td>Constant Mean</td>   <th>  Adj. R-squared:    </th>  <td>   0.000</td> \n",
       "</tr>\n",
       "<tr>\n",
       "  <th>Vol Model:</th>            <td>GARCH</td>       <th>  Log-Likelihood:    </th> <td>  -2701.21</td>\n",
       "</tr>\n",
       "<tr>\n",
       "  <th>Distribution:</th>        <td>Normal</td>       <th>  AIC:               </th> <td>   5410.43</td>\n",
       "</tr>\n",
       "<tr>\n",
       "  <th>Method:</th>        <td>Maximum Likelihood</td> <th>  BIC:               </th> <td>   5430.79</td>\n",
       "</tr>\n",
       "<tr>\n",
       "  <th></th>                        <td></td>          <th>  No. Observations:  </th>    <td>1199</td>   \n",
       "</tr>\n",
       "<tr>\n",
       "  <th>Date:</th>           <td>Mon, Feb 15 2021</td>  <th>  Df Residuals:      </th>    <td>1198</td>   \n",
       "</tr>\n",
       "<tr>\n",
       "  <th>Time:</th>               <td>13:51:24</td>      <th>  Df Model:          </th>      <td>1</td>    \n",
       "</tr>\n",
       "</table>\n",
       "<table class=\"simpletable\">\n",
       "<caption>Mean Model</caption>\n",
       "<tr>\n",
       "   <td></td>     <th>coef</th>     <th>std err</th>      <th>t</th>       <th>P>|t|</th>   <th>95.0% Conf. Int.</th> \n",
       "</tr>\n",
       "<tr>\n",
       "  <th>mu</th> <td>    0.0425</td> <td>    0.208</td> <td>    0.204</td> <td>    0.838</td> <td>[ -0.366,  0.451]</td>\n",
       "</tr>\n",
       "</table>\n",
       "<table class=\"simpletable\">\n",
       "<caption>Volatility Model</caption>\n",
       "<tr>\n",
       "      <td></td>        <th>coef</th>     <th>std err</th>      <th>t</th>       <th>P>|t|</th>     <th>95.0% Conf. Int.</th>  \n",
       "</tr>\n",
       "<tr>\n",
       "  <th>omega</th>    <td>    0.7207</td> <td>    0.147</td> <td>    4.889</td> <td>1.015e-06</td>   <td>[  0.432,  1.010]</td> \n",
       "</tr>\n",
       "<tr>\n",
       "  <th>alpha[1]</th> <td>    0.8718</td> <td>5.198e-02</td> <td>   16.772</td> <td>3.944e-63</td>   <td>[  0.770,  0.974]</td> \n",
       "</tr>\n",
       "<tr>\n",
       "  <th>beta[1]</th>  <td>    0.0802</td> <td>5.784e-02</td> <td>    1.387</td> <td>    0.165</td> <td>[-3.312e-02,  0.194]</td>\n",
       "</tr>\n",
       "</table><br/><br/>Covariance estimator: robust"
      ],
      "text/plain": [
       "<class 'statsmodels.iolib.summary.Summary'>\n",
       "\"\"\"\n",
       "                     Constant Mean - GARCH Model Results                      \n",
       "==============================================================================\n",
       "Dep. Variable:                  Close   R-squared:                       0.000\n",
       "Mean Model:             Constant Mean   Adj. R-squared:                  0.000\n",
       "Vol Model:                      GARCH   Log-Likelihood:               -2701.21\n",
       "Distribution:                  Normal   AIC:                           5410.43\n",
       "Method:            Maximum Likelihood   BIC:                           5430.79\n",
       "                                        No. Observations:                 1199\n",
       "Date:                Mon, Feb 15 2021   Df Residuals:                     1198\n",
       "Time:                        13:51:24   Df Model:                            1\n",
       "                               Mean Model                               \n",
       "========================================================================\n",
       "                 coef    std err          t      P>|t|  95.0% Conf. Int.\n",
       "------------------------------------------------------------------------\n",
       "mu             0.0425      0.208      0.204      0.838 [ -0.366,  0.451]\n",
       "                              Volatility Model                             \n",
       "===========================================================================\n",
       "                 coef    std err          t      P>|t|     95.0% Conf. Int.\n",
       "---------------------------------------------------------------------------\n",
       "omega          0.7207      0.147      4.889  1.015e-06    [  0.432,  1.010]\n",
       "alpha[1]       0.8718  5.198e-02     16.772  3.944e-63    [  0.770,  0.974]\n",
       "beta[1]        0.0802  5.784e-02      1.387      0.165 [-3.312e-02,  0.194]\n",
       "===========================================================================\n",
       "\n",
       "Covariance estimator: robust\n",
       "\"\"\""
      ]
     },
     "execution_count": 57,
     "metadata": {},
     "output_type": "execute_result"
    }
   ],
   "source": [
    "GARCH_20 = arch_model(Ret_20, p=1, q=1).fit(update_freq=5, disp='off')\n",
    "GARCH_20.summary()"
   ]
  },
  {
   "cell_type": "code",
   "execution_count": 53,
   "metadata": {},
   "outputs": [
    {
     "data": {
      "text/html": [
       "<table class=\"simpletable\">\n",
       "<caption>Constant Mean - GARCH Model Results</caption>\n",
       "<tr>\n",
       "  <th>Dep. Variable:</th>        <td>Close</td>       <th>  R-squared:         </th>  <td>   0.000</td> \n",
       "</tr>\n",
       "<tr>\n",
       "  <th>Mean Model:</th>       <td>Constant Mean</td>   <th>  Adj. R-squared:    </th>  <td>   0.000</td> \n",
       "</tr>\n",
       "<tr>\n",
       "  <th>Vol Model:</th>            <td>GARCH</td>       <th>  Log-Likelihood:    </th> <td>  -1876.43</td>\n",
       "</tr>\n",
       "<tr>\n",
       "  <th>Distribution:</th>        <td>Normal</td>       <th>  AIC:               </th> <td>   3760.86</td>\n",
       "</tr>\n",
       "<tr>\n",
       "  <th>Method:</th>        <td>Maximum Likelihood</td> <th>  BIC:               </th> <td>   3781.28</td>\n",
       "</tr>\n",
       "<tr>\n",
       "  <th></th>                        <td></td>          <th>  No. Observations:  </th>    <td>1216</td>   \n",
       "</tr>\n",
       "<tr>\n",
       "  <th>Date:</th>           <td>Mon, Feb 15 2021</td>  <th>  Df Residuals:      </th>    <td>1215</td>   \n",
       "</tr>\n",
       "<tr>\n",
       "  <th>Time:</th>               <td>13:50:41</td>      <th>  Df Model:          </th>      <td>1</td>    \n",
       "</tr>\n",
       "</table>\n",
       "<table class=\"simpletable\">\n",
       "<caption>Mean Model</caption>\n",
       "<tr>\n",
       "   <td></td>     <th>coef</th>     <th>std err</th>      <th>t</th>       <th>P>|t|</th>    <th>95.0% Conf. Int.</th>  \n",
       "</tr>\n",
       "<tr>\n",
       "  <th>mu</th> <td>    0.1074</td> <td>4.547e-02</td> <td>    2.361</td> <td>1.822e-02</td> <td>[1.824e-02,  0.196]</td>\n",
       "</tr>\n",
       "</table>\n",
       "<table class=\"simpletable\">\n",
       "<caption>Volatility Model</caption>\n",
       "<tr>\n",
       "      <td></td>        <th>coef</th>     <th>std err</th>      <th>t</th>       <th>P>|t|</th>    <th>95.0% Conf. Int.</th>  \n",
       "</tr>\n",
       "<tr>\n",
       "  <th>omega</th>    <td>    0.3720</td> <td>    0.101</td> <td>    3.691</td> <td>2.236e-04</td>  <td>[  0.174,  0.570]</td> \n",
       "</tr>\n",
       "<tr>\n",
       "  <th>alpha[1]</th> <td>    0.5461</td> <td>6.485e-02</td> <td>    8.422</td> <td>3.695e-17</td>  <td>[  0.419,  0.673]</td> \n",
       "</tr>\n",
       "<tr>\n",
       "  <th>beta[1]</th>  <td>    0.2668</td> <td>    0.107</td> <td>    2.492</td> <td>1.269e-02</td> <td>[5.700e-02,  0.477]</td>\n",
       "</tr>\n",
       "</table><br/><br/>Covariance estimator: robust"
      ],
      "text/plain": [
       "<class 'statsmodels.iolib.summary.Summary'>\n",
       "\"\"\"\n",
       "                     Constant Mean - GARCH Model Results                      \n",
       "==============================================================================\n",
       "Dep. Variable:                  Close   R-squared:                       0.000\n",
       "Mean Model:             Constant Mean   Adj. R-squared:                  0.000\n",
       "Vol Model:                      GARCH   Log-Likelihood:               -1876.43\n",
       "Distribution:                  Normal   AIC:                           3760.86\n",
       "Method:            Maximum Likelihood   BIC:                           3781.28\n",
       "                                        No. Observations:                 1216\n",
       "Date:                Mon, Feb 15 2021   Df Residuals:                     1215\n",
       "Time:                        13:50:41   Df Model:                            1\n",
       "                                Mean Model                                \n",
       "==========================================================================\n",
       "                 coef    std err          t      P>|t|    95.0% Conf. Int.\n",
       "--------------------------------------------------------------------------\n",
       "mu             0.1074  4.547e-02      2.361  1.822e-02 [1.824e-02,  0.196]\n",
       "                             Volatility Model                             \n",
       "==========================================================================\n",
       "                 coef    std err          t      P>|t|    95.0% Conf. Int.\n",
       "--------------------------------------------------------------------------\n",
       "omega          0.3720      0.101      3.691  2.236e-04   [  0.174,  0.570]\n",
       "alpha[1]       0.5461  6.485e-02      8.422  3.695e-17   [  0.419,  0.673]\n",
       "beta[1]        0.2668      0.107      2.492  1.269e-02 [5.700e-02,  0.477]\n",
       "==========================================================================\n",
       "\n",
       "Covariance estimator: robust\n",
       "\"\"\""
      ]
     },
     "execution_count": 53,
     "metadata": {},
     "output_type": "execute_result"
    }
   ],
   "source": [
    "GARCH_3 = arch_model(Ret_3, p=1, q=1).fit(update_freq=5, disp='off')\n",
    "GARCH_3.summary()"
   ]
  },
  {
   "cell_type": "markdown",
   "metadata": {},
   "source": [
    "## GJR-GARCH Model"
   ]
  },
  {
   "cell_type": "code",
   "execution_count": 46,
   "metadata": {},
   "outputs": [
    {
     "data": {
      "text/html": [
       "<table class=\"simpletable\">\n",
       "<caption>Constant Mean - GJR-GARCH Model Results</caption>\n",
       "<tr>\n",
       "  <th>Dep. Variable:</th>        <td>Close</td>       <th>  R-squared:         </th>  <td>   0.000</td> \n",
       "</tr>\n",
       "<tr>\n",
       "  <th>Mean Model:</th>       <td>Constant Mean</td>   <th>  Adj. R-squared:    </th>  <td>   0.000</td> \n",
       "</tr>\n",
       "<tr>\n",
       "  <th>Vol Model:</th>          <td>GJR-GARCH</td>     <th>  Log-Likelihood:    </th> <td>  -1235.96</td>\n",
       "</tr>\n",
       "<tr>\n",
       "  <th>Distribution:</th>        <td>Normal</td>       <th>  AIC:               </th> <td>   2481.93</td>\n",
       "</tr>\n",
       "<tr>\n",
       "  <th>Method:</th>        <td>Maximum Likelihood</td> <th>  BIC:               </th> <td>   2507.45</td>\n",
       "</tr>\n",
       "<tr>\n",
       "  <th></th>                        <td></td>          <th>  No. Observations:  </th>    <td>1218</td>   \n",
       "</tr>\n",
       "<tr>\n",
       "  <th>Date:</th>           <td>Mon, Feb 15 2021</td>  <th>  Df Residuals:      </th>    <td>1217</td>   \n",
       "</tr>\n",
       "<tr>\n",
       "  <th>Time:</th>               <td>13:47:47</td>      <th>  Df Model:          </th>      <td>1</td>    \n",
       "</tr>\n",
       "</table>\n",
       "<table class=\"simpletable\">\n",
       "<caption>Mean Model</caption>\n",
       "<tr>\n",
       "   <td></td>     <th>coef</th>     <th>std err</th>      <th>t</th>       <th>P>|t|</th>      <th>95.0% Conf. Int.</th>   \n",
       "</tr>\n",
       "<tr>\n",
       "  <th>mu</th> <td>4.8249e-03</td> <td>1.702e-02</td> <td>    0.283</td> <td>    0.777</td> <td>[-2.854e-02,3.819e-02]</td>\n",
       "</tr>\n",
       "</table>\n",
       "<table class=\"simpletable\">\n",
       "<caption>Volatility Model</caption>\n",
       "<tr>\n",
       "      <td></td>        <th>coef</th>     <th>std err</th>      <th>t</th>       <th>P>|t|</th>      <th>95.0% Conf. Int.</th>   \n",
       "</tr>\n",
       "<tr>\n",
       "  <th>omega</th>    <td>9.9726e-03</td> <td>4.863e-03</td> <td>    2.051</td> <td>4.029e-02</td>  <td>[4.418e-04,1.950e-02]</td>\n",
       "</tr>\n",
       "<tr>\n",
       "  <th>alpha[1]</th> <td>1.8778e-03</td> <td>1.615e-02</td> <td>    0.116</td> <td>    0.907</td> <td>[-2.978e-02,3.354e-02]</td>\n",
       "</tr>\n",
       "<tr>\n",
       "  <th>gamma[1]</th> <td>    0.1167</td> <td>3.397e-02</td> <td>    3.434</td> <td>5.945e-04</td>   <td>[5.008e-02,  0.183]</td> \n",
       "</tr>\n",
       "<tr>\n",
       "  <th>beta[1]</th>  <td>    0.9179</td> <td>1.938e-02</td> <td>   47.357</td>   <td>0.000</td>      <td>[  0.880,  0.956]</td>  \n",
       "</tr>\n",
       "</table><br/><br/>Covariance estimator: robust"
      ],
      "text/plain": [
       "<class 'statsmodels.iolib.summary.Summary'>\n",
       "\"\"\"\n",
       "                   Constant Mean - GJR-GARCH Model Results                    \n",
       "==============================================================================\n",
       "Dep. Variable:                  Close   R-squared:                       0.000\n",
       "Mean Model:             Constant Mean   Adj. R-squared:                  0.000\n",
       "Vol Model:                  GJR-GARCH   Log-Likelihood:               -1235.96\n",
       "Distribution:                  Normal   AIC:                           2481.93\n",
       "Method:            Maximum Likelihood   BIC:                           2507.45\n",
       "                                        No. Observations:                 1218\n",
       "Date:                Mon, Feb 15 2021   Df Residuals:                     1217\n",
       "Time:                        13:47:47   Df Model:                            1\n",
       "                                  Mean Model                                 \n",
       "=============================================================================\n",
       "                 coef    std err          t      P>|t|       95.0% Conf. Int.\n",
       "-----------------------------------------------------------------------------\n",
       "mu         4.8249e-03  1.702e-02      0.283      0.777 [-2.854e-02,3.819e-02]\n",
       "                               Volatility Model                              \n",
       "=============================================================================\n",
       "                 coef    std err          t      P>|t|       95.0% Conf. Int.\n",
       "-----------------------------------------------------------------------------\n",
       "omega      9.9726e-03  4.863e-03      2.051  4.029e-02  [4.418e-04,1.950e-02]\n",
       "alpha[1]   1.8778e-03  1.615e-02      0.116      0.907 [-2.978e-02,3.354e-02]\n",
       "gamma[1]       0.1167  3.397e-02      3.434  5.945e-04    [5.008e-02,  0.183]\n",
       "beta[1]        0.9179  1.938e-02     47.357      0.000      [  0.880,  0.956]\n",
       "=============================================================================\n",
       "\n",
       "Covariance estimator: robust\n",
       "\"\"\""
      ]
     },
     "execution_count": 46,
     "metadata": {},
     "output_type": "execute_result"
    }
   ],
   "source": [
    "GJR_GARCH_1 = arch_model(Ret_1, p=1, o=1, q=1).fit(update_freq=5, disp='off')\n",
    "GJR_GARCH_1.summary()"
   ]
  },
  {
   "cell_type": "code",
   "execution_count": 47,
   "metadata": {},
   "outputs": [
    {
     "data": {
      "text/html": [
       "<table class=\"simpletable\">\n",
       "<caption>Constant Mean - GJR-GARCH Model Results</caption>\n",
       "<tr>\n",
       "  <th>Dep. Variable:</th>        <td>Close</td>       <th>  R-squared:         </th>  <td>   0.000</td> \n",
       "</tr>\n",
       "<tr>\n",
       "  <th>Mean Model:</th>       <td>Constant Mean</td>   <th>  Adj. R-squared:    </th>  <td>   0.000</td> \n",
       "</tr>\n",
       "<tr>\n",
       "  <th>Vol Model:</th>          <td>GJR-GARCH</td>     <th>  Log-Likelihood:    </th> <td>  -1872.16</td>\n",
       "</tr>\n",
       "<tr>\n",
       "  <th>Distribution:</th>        <td>Normal</td>       <th>  AIC:               </th> <td>   3754.31</td>\n",
       "</tr>\n",
       "<tr>\n",
       "  <th>Method:</th>        <td>Maximum Likelihood</td> <th>  BIC:               </th> <td>   3779.83</td>\n",
       "</tr>\n",
       "<tr>\n",
       "  <th></th>                        <td></td>          <th>  No. Observations:  </th>    <td>1216</td>   \n",
       "</tr>\n",
       "<tr>\n",
       "  <th>Date:</th>           <td>Mon, Feb 15 2021</td>  <th>  Df Residuals:      </th>    <td>1215</td>   \n",
       "</tr>\n",
       "<tr>\n",
       "  <th>Time:</th>               <td>13:47:55</td>      <th>  Df Model:          </th>      <td>1</td>    \n",
       "</tr>\n",
       "</table>\n",
       "<table class=\"simpletable\">\n",
       "<caption>Mean Model</caption>\n",
       "<tr>\n",
       "   <td></td>     <th>coef</th>     <th>std err</th>      <th>t</th>       <th>P>|t|</th>    <th>95.0% Conf. Int.</th>  \n",
       "</tr>\n",
       "<tr>\n",
       "  <th>mu</th> <td>    0.1112</td> <td>4.584e-02</td> <td>    2.425</td> <td>1.529e-02</td> <td>[2.133e-02,  0.201]</td>\n",
       "</tr>\n",
       "</table>\n",
       "<table class=\"simpletable\">\n",
       "<caption>Volatility Model</caption>\n",
       "<tr>\n",
       "      <td></td>        <th>coef</th>     <th>std err</th>      <th>t</th>       <th>P>|t|</th>    <th>95.0% Conf. Int.</th>  \n",
       "</tr>\n",
       "<tr>\n",
       "  <th>omega</th>    <td>    0.3645</td> <td>8.650e-02</td> <td>    4.213</td> <td>2.515e-05</td>  <td>[  0.195,  0.534]</td> \n",
       "</tr>\n",
       "<tr>\n",
       "  <th>alpha[1]</th> <td>    0.4069</td> <td>7.362e-02</td> <td>    5.528</td> <td>3.244e-08</td>  <td>[  0.263,  0.551]</td> \n",
       "</tr>\n",
       "<tr>\n",
       "  <th>gamma[1]</th> <td>    0.2569</td> <td>8.338e-02</td> <td>    3.082</td> <td>2.059e-03</td> <td>[9.351e-02,  0.420]</td>\n",
       "</tr>\n",
       "<tr>\n",
       "  <th>beta[1]</th>  <td>    0.2746</td> <td>9.854e-02</td> <td>    2.786</td> <td>5.333e-03</td> <td>[8.142e-02,  0.468]</td>\n",
       "</tr>\n",
       "</table><br/><br/>Covariance estimator: robust"
      ],
      "text/plain": [
       "<class 'statsmodels.iolib.summary.Summary'>\n",
       "\"\"\"\n",
       "                   Constant Mean - GJR-GARCH Model Results                    \n",
       "==============================================================================\n",
       "Dep. Variable:                  Close   R-squared:                       0.000\n",
       "Mean Model:             Constant Mean   Adj. R-squared:                  0.000\n",
       "Vol Model:                  GJR-GARCH   Log-Likelihood:               -1872.16\n",
       "Distribution:                  Normal   AIC:                           3754.31\n",
       "Method:            Maximum Likelihood   BIC:                           3779.83\n",
       "                                        No. Observations:                 1216\n",
       "Date:                Mon, Feb 15 2021   Df Residuals:                     1215\n",
       "Time:                        13:47:55   Df Model:                            1\n",
       "                                Mean Model                                \n",
       "==========================================================================\n",
       "                 coef    std err          t      P>|t|    95.0% Conf. Int.\n",
       "--------------------------------------------------------------------------\n",
       "mu             0.1112  4.584e-02      2.425  1.529e-02 [2.133e-02,  0.201]\n",
       "                             Volatility Model                             \n",
       "==========================================================================\n",
       "                 coef    std err          t      P>|t|    95.0% Conf. Int.\n",
       "--------------------------------------------------------------------------\n",
       "omega          0.3645  8.650e-02      4.213  2.515e-05   [  0.195,  0.534]\n",
       "alpha[1]       0.4069  7.362e-02      5.528  3.244e-08   [  0.263,  0.551]\n",
       "gamma[1]       0.2569  8.338e-02      3.082  2.059e-03 [9.351e-02,  0.420]\n",
       "beta[1]        0.2746  9.854e-02      2.786  5.333e-03 [8.142e-02,  0.468]\n",
       "==========================================================================\n",
       "\n",
       "Covariance estimator: robust\n",
       "\"\"\""
      ]
     },
     "execution_count": 47,
     "metadata": {},
     "output_type": "execute_result"
    }
   ],
   "source": [
    "GJR_GARCH_3 = arch_model(Ret_3, p=1, o=1, q=1).fit(update_freq=5, disp='off')\n",
    "GJR_GARCH_3.summary()"
   ]
  },
  {
   "cell_type": "code",
   "execution_count": 48,
   "metadata": {},
   "outputs": [
    {
     "data": {
      "text/html": [
       "<table class=\"simpletable\">\n",
       "<caption>Constant Mean - GJR-GARCH Model Results</caption>\n",
       "<tr>\n",
       "  <th>Dep. Variable:</th>        <td>Close</td>       <th>  R-squared:         </th>  <td>   0.000</td> \n",
       "</tr>\n",
       "<tr>\n",
       "  <th>Mean Model:</th>       <td>Constant Mean</td>   <th>  Adj. R-squared:    </th>  <td>   0.000</td> \n",
       "</tr>\n",
       "<tr>\n",
       "  <th>Vol Model:</th>          <td>GJR-GARCH</td>     <th>  Log-Likelihood:    </th> <td>  -2096.67</td>\n",
       "</tr>\n",
       "<tr>\n",
       "  <th>Distribution:</th>        <td>Normal</td>       <th>  AIC:               </th> <td>   4203.34</td>\n",
       "</tr>\n",
       "<tr>\n",
       "  <th>Method:</th>        <td>Maximum Likelihood</td> <th>  BIC:               </th> <td>   4228.85</td>\n",
       "</tr>\n",
       "<tr>\n",
       "  <th></th>                        <td></td>          <th>  No. Observations:  </th>    <td>1214</td>   \n",
       "</tr>\n",
       "<tr>\n",
       "  <th>Date:</th>           <td>Mon, Feb 15 2021</td>  <th>  Df Residuals:      </th>    <td>1213</td>   \n",
       "</tr>\n",
       "<tr>\n",
       "  <th>Time:</th>               <td>13:48:14</td>      <th>  Df Model:          </th>      <td>1</td>    \n",
       "</tr>\n",
       "</table>\n",
       "<table class=\"simpletable\">\n",
       "<caption>Mean Model</caption>\n",
       "<tr>\n",
       "   <td></td>     <th>coef</th>     <th>std err</th>      <th>t</th>       <th>P>|t|</th>    <th>95.0% Conf. Int.</th>  \n",
       "</tr>\n",
       "<tr>\n",
       "  <th>mu</th> <td>    0.1278</td> <td>6.129e-02</td> <td>    2.086</td> <td>3.701e-02</td> <td>[7.705e-03,  0.248]</td>\n",
       "</tr>\n",
       "</table>\n",
       "<table class=\"simpletable\">\n",
       "<caption>Volatility Model</caption>\n",
       "<tr>\n",
       "      <td></td>        <th>coef</th>     <th>std err</th>      <th>t</th>       <th>P>|t|</th>     <th>95.0% Conf. Int.</th>  \n",
       "</tr>\n",
       "<tr>\n",
       "  <th>omega</th>    <td>    0.3859</td> <td>    0.149</td> <td>    2.583</td> <td>9.785e-03</td>  <td>[9.311e-02,  0.679]</td>\n",
       "</tr>\n",
       "<tr>\n",
       "  <th>alpha[1]</th> <td>    0.5960</td> <td>    0.123</td> <td>    4.829</td> <td>1.374e-06</td>   <td>[  0.354,  0.838]</td> \n",
       "</tr>\n",
       "<tr>\n",
       "  <th>gamma[1]</th> <td>    0.1476</td> <td>8.532e-02</td> <td>    1.730</td> <td>8.363e-02</td> <td>[-1.962e-02,  0.315]</td>\n",
       "</tr>\n",
       "<tr>\n",
       "  <th>beta[1]</th>  <td>    0.2509</td> <td>    0.142</td> <td>    1.771</td> <td>7.652e-02</td> <td>[-2.673e-02,  0.529]</td>\n",
       "</tr>\n",
       "</table><br/><br/>Covariance estimator: robust"
      ],
      "text/plain": [
       "<class 'statsmodels.iolib.summary.Summary'>\n",
       "\"\"\"\n",
       "                   Constant Mean - GJR-GARCH Model Results                    \n",
       "==============================================================================\n",
       "Dep. Variable:                  Close   R-squared:                       0.000\n",
       "Mean Model:             Constant Mean   Adj. R-squared:                  0.000\n",
       "Vol Model:                  GJR-GARCH   Log-Likelihood:               -2096.67\n",
       "Distribution:                  Normal   AIC:                           4203.34\n",
       "Method:            Maximum Likelihood   BIC:                           4228.85\n",
       "                                        No. Observations:                 1214\n",
       "Date:                Mon, Feb 15 2021   Df Residuals:                     1213\n",
       "Time:                        13:48:14   Df Model:                            1\n",
       "                                Mean Model                                \n",
       "==========================================================================\n",
       "                 coef    std err          t      P>|t|    95.0% Conf. Int.\n",
       "--------------------------------------------------------------------------\n",
       "mu             0.1278  6.129e-02      2.086  3.701e-02 [7.705e-03,  0.248]\n",
       "                              Volatility Model                             \n",
       "===========================================================================\n",
       "                 coef    std err          t      P>|t|     95.0% Conf. Int.\n",
       "---------------------------------------------------------------------------\n",
       "omega          0.3859      0.149      2.583  9.785e-03  [9.311e-02,  0.679]\n",
       "alpha[1]       0.5960      0.123      4.829  1.374e-06    [  0.354,  0.838]\n",
       "gamma[1]       0.1476  8.532e-02      1.730  8.363e-02 [-1.962e-02,  0.315]\n",
       "beta[1]        0.2509      0.142      1.771  7.652e-02 [-2.673e-02,  0.529]\n",
       "===========================================================================\n",
       "\n",
       "Covariance estimator: robust\n",
       "\"\"\""
      ]
     },
     "execution_count": 48,
     "metadata": {},
     "output_type": "execute_result"
    }
   ],
   "source": [
    "GJR_GARCH_5 = arch_model(Ret_5, p=1, o=1, q=1).fit(update_freq=5, disp='off')\n",
    "GJR_GARCH_5.summary()"
   ]
  },
  {
   "cell_type": "code",
   "execution_count": 49,
   "metadata": {},
   "outputs": [
    {
     "data": {
      "text/html": [
       "<table class=\"simpletable\">\n",
       "<caption>Constant Mean - GJR-GARCH Model Results</caption>\n",
       "<tr>\n",
       "  <th>Dep. Variable:</th>        <td>Close</td>       <th>  R-squared:         </th>  <td>   0.000</td> \n",
       "</tr>\n",
       "<tr>\n",
       "  <th>Mean Model:</th>       <td>Constant Mean</td>   <th>  Adj. R-squared:    </th>  <td>   0.000</td> \n",
       "</tr>\n",
       "<tr>\n",
       "  <th>Vol Model:</th>          <td>GJR-GARCH</td>     <th>  Log-Likelihood:    </th> <td>  -2399.36</td>\n",
       "</tr>\n",
       "<tr>\n",
       "  <th>Distribution:</th>        <td>Normal</td>       <th>  AIC:               </th> <td>   4808.72</td>\n",
       "</tr>\n",
       "<tr>\n",
       "  <th>Method:</th>        <td>Maximum Likelihood</td> <th>  BIC:               </th> <td>   4834.21</td>\n",
       "</tr>\n",
       "<tr>\n",
       "  <th></th>                        <td></td>          <th>  No. Observations:  </th>    <td>1209</td>   \n",
       "</tr>\n",
       "<tr>\n",
       "  <th>Date:</th>           <td>Mon, Feb 15 2021</td>  <th>  Df Residuals:      </th>    <td>1208</td>   \n",
       "</tr>\n",
       "<tr>\n",
       "  <th>Time:</th>               <td>13:48:22</td>      <th>  Df Model:          </th>      <td>1</td>    \n",
       "</tr>\n",
       "</table>\n",
       "<table class=\"simpletable\">\n",
       "<caption>Mean Model</caption>\n",
       "<tr>\n",
       "   <td></td>     <th>coef</th>     <th>std err</th>      <th>t</th>       <th>P>|t|</th>   <th>95.0% Conf. Int.</th> \n",
       "</tr>\n",
       "<tr>\n",
       "  <th>mu</th> <td>    0.1831</td> <td>    0.145</td> <td>    1.263</td> <td>    0.207</td> <td>[ -0.101,  0.467]</td>\n",
       "</tr>\n",
       "</table>\n",
       "<table class=\"simpletable\">\n",
       "<caption>Volatility Model</caption>\n",
       "<tr>\n",
       "      <td></td>        <th>coef</th>     <th>std err</th>      <th>t</th>       <th>P>|t|</th>      <th>95.0% Conf. Int.</th>   \n",
       "</tr>\n",
       "<tr>\n",
       "  <th>omega</th>    <td>    0.8441</td> <td>    0.130</td> <td>    6.516</td> <td>7.235e-11</td>    <td>[  0.590,  1.098]</td>  \n",
       "</tr>\n",
       "<tr>\n",
       "  <th>alpha[1]</th> <td>    0.7896</td> <td>5.099e-02</td> <td>   15.487</td> <td>4.261e-54</td>    <td>[  0.690,  0.890]</td>  \n",
       "</tr>\n",
       "<tr>\n",
       "  <th>gamma[1]</th> <td>    0.0743</td> <td>7.125e-02</td> <td>    1.043</td> <td>    0.297</td>  <td>[-6.535e-02,  0.214]</td> \n",
       "</tr>\n",
       "<tr>\n",
       "  <th>beta[1]</th>  <td>    0.0199</td> <td>3.087e-02</td> <td>    0.646</td> <td>    0.518</td> <td>[-4.057e-02,8.045e-02]</td>\n",
       "</tr>\n",
       "</table><br/><br/>Covariance estimator: robust"
      ],
      "text/plain": [
       "<class 'statsmodels.iolib.summary.Summary'>\n",
       "\"\"\"\n",
       "                   Constant Mean - GJR-GARCH Model Results                    \n",
       "==============================================================================\n",
       "Dep. Variable:                  Close   R-squared:                       0.000\n",
       "Mean Model:             Constant Mean   Adj. R-squared:                  0.000\n",
       "Vol Model:                  GJR-GARCH   Log-Likelihood:               -2399.36\n",
       "Distribution:                  Normal   AIC:                           4808.72\n",
       "Method:            Maximum Likelihood   BIC:                           4834.21\n",
       "                                        No. Observations:                 1209\n",
       "Date:                Mon, Feb 15 2021   Df Residuals:                     1208\n",
       "Time:                        13:48:22   Df Model:                            1\n",
       "                               Mean Model                               \n",
       "========================================================================\n",
       "                 coef    std err          t      P>|t|  95.0% Conf. Int.\n",
       "------------------------------------------------------------------------\n",
       "mu             0.1831      0.145      1.263      0.207 [ -0.101,  0.467]\n",
       "                               Volatility Model                              \n",
       "=============================================================================\n",
       "                 coef    std err          t      P>|t|       95.0% Conf. Int.\n",
       "-----------------------------------------------------------------------------\n",
       "omega          0.8441      0.130      6.516  7.235e-11      [  0.590,  1.098]\n",
       "alpha[1]       0.7896  5.099e-02     15.487  4.261e-54      [  0.690,  0.890]\n",
       "gamma[1]       0.0743  7.125e-02      1.043      0.297   [-6.535e-02,  0.214]\n",
       "beta[1]        0.0199  3.087e-02      0.646      0.518 [-4.057e-02,8.045e-02]\n",
       "=============================================================================\n",
       "\n",
       "Covariance estimator: robust\n",
       "\"\"\""
      ]
     },
     "execution_count": 49,
     "metadata": {},
     "output_type": "execute_result"
    }
   ],
   "source": [
    "GJR_GARCH_10 = arch_model(Ret_10, p=1, o=1, q=1).fit(update_freq=5, disp='off')\n",
    "GJR_GARCH_10.summary()"
   ]
  },
  {
   "cell_type": "code",
   "execution_count": 50,
   "metadata": {},
   "outputs": [
    {
     "data": {
      "text/html": [
       "<table class=\"simpletable\">\n",
       "<caption>Constant Mean - GJR-GARCH Model Results</caption>\n",
       "<tr>\n",
       "  <th>Dep. Variable:</th>        <td>Close</td>       <th>  R-squared:         </th>  <td>   0.000</td> \n",
       "</tr>\n",
       "<tr>\n",
       "  <th>Mean Model:</th>       <td>Constant Mean</td>   <th>  Adj. R-squared:    </th>  <td>   0.000</td> \n",
       "</tr>\n",
       "<tr>\n",
       "  <th>Vol Model:</th>          <td>GJR-GARCH</td>     <th>  Log-Likelihood:    </th> <td>  -2530.41</td>\n",
       "</tr>\n",
       "<tr>\n",
       "  <th>Distribution:</th>        <td>Normal</td>       <th>  AIC:               </th> <td>   5070.81</td>\n",
       "</tr>\n",
       "<tr>\n",
       "  <th>Method:</th>        <td>Maximum Likelihood</td> <th>  BIC:               </th> <td>   5096.28</td>\n",
       "</tr>\n",
       "<tr>\n",
       "  <th></th>                        <td></td>          <th>  No. Observations:  </th>    <td>1205</td>   \n",
       "</tr>\n",
       "<tr>\n",
       "  <th>Date:</th>           <td>Mon, Feb 15 2021</td>  <th>  Df Residuals:      </th>    <td>1204</td>   \n",
       "</tr>\n",
       "<tr>\n",
       "  <th>Time:</th>               <td>13:49:07</td>      <th>  Df Model:          </th>      <td>1</td>    \n",
       "</tr>\n",
       "</table>\n",
       "<table class=\"simpletable\">\n",
       "<caption>Mean Model</caption>\n",
       "<tr>\n",
       "   <td></td>     <th>coef</th>     <th>std err</th>      <th>t</th>       <th>P>|t|</th>   <th>95.0% Conf. Int.</th> \n",
       "</tr>\n",
       "<tr>\n",
       "  <th>mu</th> <td>    0.0342</td> <td>    0.137</td> <td>    0.250</td> <td>    0.803</td> <td>[ -0.234,  0.302]</td>\n",
       "</tr>\n",
       "</table>\n",
       "<table class=\"simpletable\">\n",
       "<caption>Volatility Model</caption>\n",
       "<tr>\n",
       "      <td></td>        <th>coef</th>     <th>std err</th>      <th>t</th>       <th>P>|t|</th>      <th>95.0% Conf. Int.</th>   \n",
       "</tr>\n",
       "<tr>\n",
       "  <th>omega</th>    <td>    0.8168</td> <td>    0.106</td> <td>    7.671</td> <td>1.708e-14</td>    <td>[  0.608,  1.026]</td>  \n",
       "</tr>\n",
       "<tr>\n",
       "  <th>alpha[1]</th> <td>    0.8651</td> <td>4.318e-02</td> <td>   20.035</td> <td>2.735e-89</td>    <td>[  0.780,  0.950]</td>  \n",
       "</tr>\n",
       "<tr>\n",
       "  <th>gamma[1]</th> <td>    0.0320</td> <td>6.102e-02</td> <td>    0.524</td> <td>    0.600</td>  <td>[-8.764e-02,  0.152]</td> \n",
       "</tr>\n",
       "<tr>\n",
       "  <th>beta[1]</th>  <td>    0.0203</td> <td>2.563e-02</td> <td>    0.790</td> <td>    0.429</td> <td>[-2.997e-02,7.048e-02]</td>\n",
       "</tr>\n",
       "</table><br/><br/>Covariance estimator: robust"
      ],
      "text/plain": [
       "<class 'statsmodels.iolib.summary.Summary'>\n",
       "\"\"\"\n",
       "                   Constant Mean - GJR-GARCH Model Results                    \n",
       "==============================================================================\n",
       "Dep. Variable:                  Close   R-squared:                       0.000\n",
       "Mean Model:             Constant Mean   Adj. R-squared:                  0.000\n",
       "Vol Model:                  GJR-GARCH   Log-Likelihood:               -2530.41\n",
       "Distribution:                  Normal   AIC:                           5070.81\n",
       "Method:            Maximum Likelihood   BIC:                           5096.28\n",
       "                                        No. Observations:                 1205\n",
       "Date:                Mon, Feb 15 2021   Df Residuals:                     1204\n",
       "Time:                        13:49:07   Df Model:                            1\n",
       "                               Mean Model                               \n",
       "========================================================================\n",
       "                 coef    std err          t      P>|t|  95.0% Conf. Int.\n",
       "------------------------------------------------------------------------\n",
       "mu             0.0342      0.137      0.250      0.803 [ -0.234,  0.302]\n",
       "                               Volatility Model                              \n",
       "=============================================================================\n",
       "                 coef    std err          t      P>|t|       95.0% Conf. Int.\n",
       "-----------------------------------------------------------------------------\n",
       "omega          0.8168      0.106      7.671  1.708e-14      [  0.608,  1.026]\n",
       "alpha[1]       0.8651  4.318e-02     20.035  2.735e-89      [  0.780,  0.950]\n",
       "gamma[1]       0.0320  6.102e-02      0.524      0.600   [-8.764e-02,  0.152]\n",
       "beta[1]        0.0203  2.563e-02      0.790      0.429 [-2.997e-02,7.048e-02]\n",
       "=============================================================================\n",
       "\n",
       "Covariance estimator: robust\n",
       "\"\"\""
      ]
     },
     "execution_count": 50,
     "metadata": {},
     "output_type": "execute_result"
    }
   ],
   "source": [
    "GJR_GARCH_14 = arch_model(Ret_14, p=1, o=1, q=1).fit(update_freq=5, disp='off')\n",
    "GJR_GARCH_14.summary()"
   ]
  },
  {
   "cell_type": "code",
   "execution_count": 51,
   "metadata": {},
   "outputs": [
    {
     "data": {
      "text/html": [
       "<table class=\"simpletable\">\n",
       "<caption>Constant Mean - GJR-GARCH Model Results</caption>\n",
       "<tr>\n",
       "  <th>Dep. Variable:</th>        <td>Close</td>       <th>  R-squared:         </th>  <td>   0.000</td> \n",
       "</tr>\n",
       "<tr>\n",
       "  <th>Mean Model:</th>       <td>Constant Mean</td>   <th>  Adj. R-squared:    </th>  <td>   0.000</td> \n",
       "</tr>\n",
       "<tr>\n",
       "  <th>Vol Model:</th>          <td>GJR-GARCH</td>     <th>  Log-Likelihood:    </th> <td>  -2701.21</td>\n",
       "</tr>\n",
       "<tr>\n",
       "  <th>Distribution:</th>        <td>Normal</td>       <th>  AIC:               </th> <td>   5412.42</td>\n",
       "</tr>\n",
       "<tr>\n",
       "  <th>Method:</th>        <td>Maximum Likelihood</td> <th>  BIC:               </th> <td>   5437.87</td>\n",
       "</tr>\n",
       "<tr>\n",
       "  <th></th>                        <td></td>          <th>  No. Observations:  </th>    <td>1199</td>   \n",
       "</tr>\n",
       "<tr>\n",
       "  <th>Date:</th>           <td>Mon, Feb 15 2021</td>  <th>  Df Residuals:      </th>    <td>1198</td>   \n",
       "</tr>\n",
       "<tr>\n",
       "  <th>Time:</th>               <td>13:49:33</td>      <th>  Df Model:          </th>      <td>1</td>    \n",
       "</tr>\n",
       "</table>\n",
       "<table class=\"simpletable\">\n",
       "<caption>Mean Model</caption>\n",
       "<tr>\n",
       "   <td></td>     <th>coef</th>     <th>std err</th>      <th>t</th>       <th>P>|t|</th>   <th>95.0% Conf. Int.</th> \n",
       "</tr>\n",
       "<tr>\n",
       "  <th>mu</th> <td>    0.0422</td> <td>    0.209</td> <td>    0.202</td> <td>    0.840</td> <td>[ -0.368,  0.452]</td>\n",
       "</tr>\n",
       "</table>\n",
       "<table class=\"simpletable\">\n",
       "<caption>Volatility Model</caption>\n",
       "<tr>\n",
       "      <td></td>        <th>coef</th>      <th>std err</th>      <th>t</th>       <th>P>|t|</th>     <th>95.0% Conf. Int.</th>  \n",
       "</tr>\n",
       "<tr>\n",
       "  <th>omega</th>    <td>    0.7212</td>  <td>    0.148</td> <td>    4.870</td> <td>1.115e-06</td>   <td>[  0.431,  1.011]</td> \n",
       "</tr>\n",
       "<tr>\n",
       "  <th>alpha[1]</th> <td>    0.8763</td>  <td>6.207e-02</td> <td>   14.118</td> <td>2.949e-45</td>   <td>[  0.755,  0.998]</td> \n",
       "</tr>\n",
       "<tr>\n",
       "  <th>gamma[1]</th> <td>-9.1018e-03</td> <td>5.581e-02</td> <td>   -0.163</td> <td>    0.870</td>   <td>[ -0.118,  0.100]</td> \n",
       "</tr>\n",
       "<tr>\n",
       "  <th>beta[1]</th>  <td>    0.0801</td>  <td>5.804e-02</td> <td>    1.380</td> <td>    0.168</td> <td>[-3.368e-02,  0.194]</td>\n",
       "</tr>\n",
       "</table><br/><br/>Covariance estimator: robust"
      ],
      "text/plain": [
       "<class 'statsmodels.iolib.summary.Summary'>\n",
       "\"\"\"\n",
       "                   Constant Mean - GJR-GARCH Model Results                    \n",
       "==============================================================================\n",
       "Dep. Variable:                  Close   R-squared:                       0.000\n",
       "Mean Model:             Constant Mean   Adj. R-squared:                  0.000\n",
       "Vol Model:                  GJR-GARCH   Log-Likelihood:               -2701.21\n",
       "Distribution:                  Normal   AIC:                           5412.42\n",
       "Method:            Maximum Likelihood   BIC:                           5437.87\n",
       "                                        No. Observations:                 1199\n",
       "Date:                Mon, Feb 15 2021   Df Residuals:                     1198\n",
       "Time:                        13:49:33   Df Model:                            1\n",
       "                               Mean Model                               \n",
       "========================================================================\n",
       "                 coef    std err          t      P>|t|  95.0% Conf. Int.\n",
       "------------------------------------------------------------------------\n",
       "mu             0.0422      0.209      0.202      0.840 [ -0.368,  0.452]\n",
       "                              Volatility Model                              \n",
       "============================================================================\n",
       "                  coef    std err          t      P>|t|     95.0% Conf. Int.\n",
       "----------------------------------------------------------------------------\n",
       "omega           0.7212      0.148      4.870  1.115e-06    [  0.431,  1.011]\n",
       "alpha[1]        0.8763  6.207e-02     14.118  2.949e-45    [  0.755,  0.998]\n",
       "gamma[1]   -9.1018e-03  5.581e-02     -0.163      0.870    [ -0.118,  0.100]\n",
       "beta[1]         0.0801  5.804e-02      1.380      0.168 [-3.368e-02,  0.194]\n",
       "============================================================================\n",
       "\n",
       "Covariance estimator: robust\n",
       "\"\"\""
      ]
     },
     "execution_count": 51,
     "metadata": {},
     "output_type": "execute_result"
    }
   ],
   "source": [
    "GJR_GARCH_20 = arch_model(Ret_20, p=1, o=1, q=1).fit(update_freq=5, disp='off')\n",
    "GJR_GARCH_20.summary()"
   ]
  },
  {
   "cell_type": "code",
   "execution_count": null,
   "metadata": {},
   "outputs": [],
   "source": []
  }
 ],
 "metadata": {
  "kernelspec": {
   "display_name": "Python 3",
   "language": "python",
   "name": "python3"
  },
  "language_info": {
   "codemirror_mode": {
    "name": "ipython",
    "version": 3
   },
   "file_extension": ".py",
   "mimetype": "text/x-python",
   "name": "python",
   "nbconvert_exporter": "python",
   "pygments_lexer": "ipython3",
   "version": "3.7.6"
  }
 },
 "nbformat": 4,
 "nbformat_minor": 4
}
